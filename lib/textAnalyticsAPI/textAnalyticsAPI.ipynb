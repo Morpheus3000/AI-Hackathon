{
 "cells": [
  {
   "cell_type": "code",
   "execution_count": 101,
   "metadata": {
    "collapsed": true
   },
   "outputs": [],
   "source": [
    "import numpy as np\n",
    "import pandas as pd\n",
    "import json\n",
    "import requests\n",
    "import urllib\n",
    "import httplib\n",
    "import base64\n",
    "import time"
   ]
  },
  {
   "cell_type": "code",
   "execution_count": 13,
   "metadata": {},
   "outputs": [
    {
     "data": {
      "text/html": [
       "<div>\n",
       "<style>\n",
       "    .dataframe thead tr:only-child th {\n",
       "        text-align: right;\n",
       "    }\n",
       "\n",
       "    .dataframe thead th {\n",
       "        text-align: left;\n",
       "    }\n",
       "\n",
       "    .dataframe tbody tr th {\n",
       "        vertical-align: top;\n",
       "    }\n",
       "</style>\n",
       "<table border=\"1\" class=\"dataframe\">\n",
       "  <thead>\n",
       "    <tr style=\"text-align: right;\">\n",
       "      <th></th>\n",
       "      <th>text</th>\n",
       "    </tr>\n",
       "  </thead>\n",
       "  <tbody>\n",
       "    <tr>\n",
       "      <th>0</th>\n",
       "      <td>Such a lovely hackathon we are in!</td>\n",
       "    </tr>\n",
       "    <tr>\n",
       "      <th>1</th>\n",
       "      <td>We are definitely going to</td>\n",
       "    </tr>\n",
       "    <tr>\n",
       "      <th>2</th>\n",
       "      <td>win and to go Paris!</td>\n",
       "    </tr>\n",
       "    <tr>\n",
       "      <th>3</th>\n",
       "      <td>Such a lovely hackathon we are in!</td>\n",
       "    </tr>\n",
       "    <tr>\n",
       "      <th>4</th>\n",
       "      <td>We are definitely going to</td>\n",
       "    </tr>\n",
       "  </tbody>\n",
       "</table>\n",
       "</div>"
      ],
      "text/plain": [
       "                                 text\n",
       "0  Such a lovely hackathon we are in!\n",
       "1          We are definitely going to\n",
       "2                win and to go Paris!\n",
       "3  Such a lovely hackathon we are in!\n",
       "4          We are definitely going to"
      ]
     },
     "execution_count": 13,
     "metadata": {},
     "output_type": "execute_result"
    }
   ],
   "source": [
    "sample_text_array = [\"Such a lovely hackathon we are in!\", \"We are definitely going to\", \"win and to go Paris!\"]\n",
    "\n",
    "sample_text = {}\n",
    "for i in range(150):\n",
    "    sample_text[i] = sample_text_array[i % 3]\n",
    "\n",
    "# sample_text = {0 : \"Such a lovely hackathon we are in!\", \n",
    "#                1 : \"We are definitely going to\", \n",
    "#                2 : \"win and to go Paris!\"\n",
    "#               }\n",
    "\n",
    "pd_text = pd.DataFrame(pd.Series(sample_text).rename(\"text\"))\n",
    "pd_text.head()"
   ]
  },
  {
   "cell_type": "code",
   "execution_count": 91,
   "metadata": {},
   "outputs": [
    {
     "data": {
      "text/plain": [
       "110"
      ]
     },
     "execution_count": 91,
     "metadata": {},
     "output_type": "execute_result"
    }
   ],
   "source": [
    "pd_text = pd.read_csv(\"Demo.csv\")\n",
    "len(pd_text)"
   ]
  },
  {
   "cell_type": "code",
   "execution_count": 4,
   "metadata": {
    "collapsed": true
   },
   "outputs": [],
   "source": [
    "api_endpoint = \"https://westus.api.cognitive.microsoft.com/text/analytics/v2.0\"\n",
    "api_key_one = \"28d6776ec31844a1aeb1095be8d99192\"\n",
    "api_key_two = \"ec713e3e3ed64186aa185d02acbf5014\""
   ]
  },
  {
   "cell_type": "code",
   "execution_count": 5,
   "metadata": {},
   "outputs": [],
   "source": [
    "def generate_json_request(pd_text):\n",
    "    request = {}\n",
    "    request[\"documents\"] = []\n",
    "    \n",
    "    for index, row in pd_text.iterrows():\n",
    "        phrase = {}\n",
    "        phrase[\"lang\"] = \"en\"\n",
    "        phrase[\"id\"] = index\n",
    "        phrase[\"text\"] = row[\"text\"]\n",
    "        request[\"documents\"].append(phrase)\n",
    "    return json.dumps(request)\n",
    "\n",
    "# json_request = generate_json_request(pd_text)\n",
    "# print json_request"
   ]
  },
  {
   "cell_type": "code",
   "execution_count": 6,
   "metadata": {
    "collapsed": true
   },
   "outputs": [],
   "source": [
    "def process_request(json_request):\n",
    "    header = {\n",
    "    'Accept' : 'application/json',\n",
    "    'Content-Type': 'application/json',\n",
    "    'Ocp-Apim-Subscription-Key': '28d6776ec31844a1aeb1095be8d99192',\n",
    "    }\n",
    "    try:\n",
    "        conn = httplib.HTTPSConnection('westus.api.cognitive.microsoft.com')\n",
    "        \n",
    "        conn.request(\"POST\", \"/text/analytics/v2.0/sentiment\", json_request, header)\n",
    "        response = conn.getresponse()\n",
    "        sentiment_data = response.read()\n",
    "        \n",
    "        conn.request(\"POST\", \"/text/analytics/v2.0/keyPhrases\", json_request, header)\n",
    "        response = conn.getresponse()\n",
    "        key_phrase_data = response.read()\n",
    "        \n",
    "        conn.close()\n",
    "        return sentiment_data, key_phrase_data\n",
    "    except Exception as e:\n",
    "        print(\"[Errno {0}] {1}\".format(e.errno, e.strerror))\n",
    "        return None    "
   ]
  },
  {
   "cell_type": "code",
   "execution_count": 7,
   "metadata": {
    "collapsed": true
   },
   "outputs": [],
   "source": [
    "# sentiment_data, key_phrase_data = process_request(json_request)"
   ]
  },
  {
   "cell_type": "code",
   "execution_count": 8,
   "metadata": {
    "collapsed": true
   },
   "outputs": [],
   "source": [
    "def add_text_analysis(base_df, sentiment_data, key_phrase_data):\n",
    "    sentiment_dict = {}\n",
    "    for entry in json.loads(sentiment_data)[\"documents\"]:\n",
    "        sentiment_dict[int(entry[\"id\"])] = entry[\"score\"]\n",
    "\n",
    "    key_phrase_dict = {}\n",
    "    for entry in json.loads(key_phrase_data)[\"documents\"]:\n",
    "        key_phrase_dict[int(entry[\"id\"])] = entry[\"keyPhrases\"]\n",
    "\n",
    "    final_pd = pd.DataFrame(base_df)\n",
    "    final_pd[\"sentiment_score\"] = pd.Series(sentiment_dict)\n",
    "    final_pd[\"key_phrases\"] = pd.Series(key_phrase_dict)\n",
    "    return final_pd"
   ]
  },
  {
   "cell_type": "code",
   "execution_count": 9,
   "metadata": {
    "collapsed": true
   },
   "outputs": [],
   "source": [
    "def main(base_df):\n",
    "    json_request = generate_json_request(base_df)\n",
    "    sentiment_data, key_phrase_data = process_request(json_request)\n",
    "    final_df = add_text_analysis(base_df, sentiment_data, key_phrase_data)\n",
    "    return final_pd"
   ]
  },
  {
   "cell_type": "code",
   "execution_count": 34,
   "metadata": {
    "collapsed": true
   },
   "outputs": [],
   "source": [
    "final_pd = main(pd_text)"
   ]
  },
  {
   "cell_type": "code",
   "execution_count": 35,
   "metadata": {},
   "outputs": [
    {
     "data": {
      "text/html": [
       "<div>\n",
       "<style>\n",
       "    .dataframe thead tr:only-child th {\n",
       "        text-align: right;\n",
       "    }\n",
       "\n",
       "    .dataframe thead th {\n",
       "        text-align: left;\n",
       "    }\n",
       "\n",
       "    .dataframe tbody tr th {\n",
       "        vertical-align: top;\n",
       "    }\n",
       "</style>\n",
       "<table border=\"1\" class=\"dataframe\">\n",
       "  <thead>\n",
       "    <tr style=\"text-align: right;\">\n",
       "      <th></th>\n",
       "      <th>text</th>\n",
       "      <th>sentiment_score</th>\n",
       "      <th>key_phrases</th>\n",
       "    </tr>\n",
       "  </thead>\n",
       "  <tbody>\n",
       "    <tr>\n",
       "      <th>0</th>\n",
       "      <td>Such a lovely hackathon we are in!</td>\n",
       "      <td>0.967976</td>\n",
       "      <td>[lovely hackathon]</td>\n",
       "    </tr>\n",
       "    <tr>\n",
       "      <th>1</th>\n",
       "      <td>We are definitely going to</td>\n",
       "      <td>0.950928</td>\n",
       "      <td>[]</td>\n",
       "    </tr>\n",
       "    <tr>\n",
       "      <th>2</th>\n",
       "      <td>win and to go Paris!</td>\n",
       "      <td>0.870765</td>\n",
       "      <td>[win]</td>\n",
       "    </tr>\n",
       "  </tbody>\n",
       "</table>\n",
       "</div>"
      ],
      "text/plain": [
       "                                 text  sentiment_score         key_phrases\n",
       "0  Such a lovely hackathon we are in!         0.967976  [lovely hackathon]\n",
       "1          We are definitely going to         0.950928                  []\n",
       "2                win and to go Paris!         0.870765               [win]"
      ]
     },
     "execution_count": 35,
     "metadata": {},
     "output_type": "execute_result"
    }
   ],
   "source": [
    "final_pd"
   ]
  },
  {
   "cell_type": "code",
   "execution_count": 108,
   "metadata": {},
   "outputs": [],
   "source": [
    "def topic_request(json_request):\n",
    "    header = {\n",
    "    'Accept' : 'application/json',\n",
    "    'Content-Type': 'application/json',\n",
    "    'Ocp-Apim-Subscription-Key': '28d6776ec31844a1aeb1095be8d99192',\n",
    "    }\n",
    "    try:\n",
    "        conn = httplib.HTTPSConnection('westus.api.cognitive.microsoft.com')        \n",
    "        conn.request(\"POST\", \"/text/analytics/v2.0/topics\", json_request, header)\n",
    "        response = conn.getresponse()\n",
    "        output_address = response.getheader(\"operation-location\")\n",
    "        operation_id = output_address.split(\"/\")[-1] \n",
    "        print \"OperationId: \", operation_id\n",
    "        conn.close()\n",
    "        \n",
    "        request_status = \"NotStarted\"\n",
    "        while request_status != \"Succeeded\" and request_status != \"Failed\":\n",
    "            print request_status\n",
    "            conn = httplib.HTTPSConnection('westus.api.cognitive.microsoft.com')\n",
    "            conn.request(\"GET\", \"/text/analytics/v2.0/operations/\" + operation_id,\n",
    "                         \"\",\n",
    "                         header\n",
    "                        )\n",
    "            response = conn.getresponse()\n",
    "            response_json = response.read()\n",
    "            request_status = json.loads(response_json)[\"status\"]\n",
    "            if request_status == \"Succeeded\":\n",
    "                topic_data = json.loads(response_json)[\"operationProcessingResult\"][\"topics\"]\n",
    "                assignment_data = json.loads(response_json)[\"operationProcessingResult\"][\"topicAssignments\"]\n",
    "            conn.close()\n",
    "            time.sleep(60)\n",
    "        if request_status == \"Succeeded\":\n",
    "            return topic_data, assignment_data\n",
    "        return None            \n",
    "            \n",
    "    except Exception as e:\n",
    "        print(\"[Errno {0}] {1}\".format(e.errno, e.strerror))\n",
    "        return None       "
   ]
  },
  {
   "cell_type": "code",
   "execution_count": null,
   "metadata": {
    "collapsed": true
   },
   "outputs": [],
   "source": [
    "def add_topic_analysis(base_df, topic_data, assignment_data):\n",
    "    assignment_dict = {}\n",
    "    for entry in json.loads(assignment_data)[\"documents\"]:\n",
    "        sentiment_dict[int(entry[\"id\"])] = entry[\"score\"]\n",
    "\n",
    "    key_phrase_dict = {}\n",
    "    for entry in json.loads(key_phrase_data)[\"documents\"]:\n",
    "        key_phrase_dict[int(entry[\"id\"])] = entry[\"keyPhrases\"]\n",
    "\n",
    "    final_pd = pd.DataFrame(base_df)\n",
    "    final_pd[\"sentiment_score\"] = pd.Series(sentiment_dict)\n",
    "    final_pd[\"key_phrases\"] = pd.Series(key_phrase_dict)\n",
    "    return final_pd"
   ]
  },
  {
   "cell_type": "code",
   "execution_count": 102,
   "metadata": {},
   "outputs": [
    {
     "name": "stdout",
     "output_type": "stream",
     "text": [
      "https://westus.api.cognitive.microsoft.com/text/analytics/v2.0/operations/f2af3d6a2c7f4ff9b684338b6c44f483\n"
     ]
    }
   ],
   "source": [
    "header = {'Accept' : 'application/json', 'Content-Type': 'application/json','Ocp-Apim-Subscription-Key': '28d6776ec31844a1aeb1095be8d99192'}\n",
    "conn = httplib.HTTPSConnection('westus.api.cognitive.microsoft.com')\n",
    "conn.request(\"POST\", \"/text/analytics/v2.0/topics\", generate_json_request(pd_text), header)\n",
    "response = conn.getresponse()\n",
    "# print response.msg\n",
    "address = response.getheader(\"operation-location\")\n",
    "print address\n",
    "conn.close()"
   ]
  },
  {
   "cell_type": "code",
   "execution_count": 104,
   "metadata": {},
   "outputs": [
    {
     "name": "stdout",
     "output_type": "stream",
     "text": [
      "['https:', '', 'westus.api.cognitive.microsoft.com', 'text', 'analytics', 'v2.0', 'operations', 'f2af3d6a2c7f4ff9b684338b6c44f483']\n"
     ]
    }
   ],
   "source": [
    "print address.split(\"/\")[-1]"
   ]
  },
  {
   "cell_type": "code",
   "execution_count": 100,
   "metadata": {},
   "outputs": [
    {
     "name": "stdout",
     "output_type": "stream",
     "text": [
      "Transfer-Encoding: chunked\r\n",
      "Content-Type: application/json; charset=utf-8\r\n",
      "x-ms-transaction-count: 1\r\n",
      "x-aml-ta-request-id: eefb145e-667a-4140-b5f1-3887ef33e7ba\r\n",
      "X-Content-Type-Options: nosniff\r\n",
      "apim-request-id: 603609c1-d941-44bf-8480-38473505f607\r\n",
      "Strict-Transport-Security: max-age=31536000; includeSubDomains; preload\r\n",
      "Date: Sat, 24 Jun 2017 15:51:05 GMT\r\n",
      "\n",
      "200\n",
      "{\"status\":\"Succeeded\",\"createdDateTime\":\"2017-06-24T15:44:39Z\",\"operationType\":\"topics\",\"operationProcessingResult\":{\"topics\":[{\"id\":\"d520399f-e646-4c66-82f3-b0df361fa1fc\",\"score\":2.0,\"keyPhrase\":\"christina iran rancho\"},{\"id\":\"b792d024-2472-45ef-9af4-f41940840989\",\"score\":2.0,\"keyPhrase\":\"iran christina rachel\"},{\"id\":\"210665b6-55ff-4064-bb08-b2d089b7e7ab\",\"score\":5.0,\"keyPhrase\":\"municipality\"},{\"id\":\"87c9f484-194c-4cc7-a3b1-9d300334b686\",\"score\":2.0,\"keyPhrase\":\"municipality on christina\"},{\"id\":\"78dd4491-ad17-4641-9385-03cdbf1871d8\",\"score\":3.0,\"keyPhrase\":\"real estate developer\"},{\"id\":\"5c8e8d4d-ae41-40c5-bac0-c9594843a7e6\",\"score\":2.0,\"keyPhrase\":\"connected with APC tom in india\"},{\"id\":\"c4781395-e7e8-443e-8425-6e7827143cdd\",\"score\":2.0,\"keyPhrase\":\"connected with mac\"},{\"id\":\"8e78b56a-093e-461e-baac-887544bd18a7\",\"score\":3.0,\"keyPhrase\":\"mac\"},{\"id\":\"41e2e9c0-3b91-4937-9f11-77a698de86b7\",\"score\":2.0,\"keyPhrase\":\"final questions\"},{\"id\":\"f940d5d0-79a4-438f-b950-659df1b2e9f0\",\"score\":2.0,\"keyPhrase\":\"final issues\"},{\"id\":\"d681efbd-3c6d-4b3f-9f5f-31fdaa5003d4\",\"score\":4.0,\"keyPhrase\":\"convention center\"},{\"id\":\"10dd6aba-9d32-41e3-9cc7-2dba032db096\",\"score\":2.0,\"keyPhrase\":\"piece of land\"},{\"id\":\"546564d6-1948-42f7-aa02-7a54becf1b82\",\"score\":2.0,\"keyPhrase\":\"team leader\"},{\"id\":\"f00726ae-c094-4996-92a7-53d382dc2b74\",\"score\":1.0,\"keyPhrase\":\"release date\"},{\"id\":\"2137e96e-e89b-4167-aabf-a6c7edc01b1f\",\"score\":1.0,\"keyPhrase\":\"convention center with space\"},{\"id\":\"02721f2b-224b-4ba9-a29f-6174dde6af93\",\"score\":2.0,\"keyPhrase\":\"vicki\"},{\"id\":\"8f93ed29-0aa2-4460-8564-7e3f0037c4e0\",\"score\":1.0,\"keyPhrase\":\"vicki in france\"},{\"id\":\"ded985f0-990f-40ff-87de-abe04f3d68c9\",\"score\":1.0,\"keyPhrase\":\"ran in india\"},{\"id\":\"2d0eda0a-4603-4bca-a600-03f02cc2e7da\",\"score\":2.0,\"keyPhrase\":\"alexander\"},{\"id\":\"409329e1-cb8c-40f2-9883-63e7a5a544ec\",\"score\":1.0,\"keyPhrase\":\"bring alexander\"}],\"topicAssignments\":[{\"documentId\":\"16\",\"topicId\":\"d520399f-e646-4c66-82f3-b0df361fa1fc\",\"distance\":0.619},{\"documentId\":\"17\",\"topicId\":\"d520399f-e646-4c66-82f3-b0df361fa1fc\",\"distance\":0.6124},{\"documentId\":\"60\",\"topicId\":\"b792d024-2472-45ef-9af4-f41940840989\",\"distance\":0.698},{\"documentId\":\"61\",\"topicId\":\"b792d024-2472-45ef-9af4-f41940840989\",\"distance\":0.6064},{\"documentId\":\"31\",\"topicId\":\"210665b6-55ff-4064-bb08-b2d089b7e7ab\",\"distance\":0.522},{\"documentId\":\"102\",\"topicId\":\"210665b6-55ff-4064-bb08-b2d089b7e7ab\",\"distance\":0.5963},{\"documentId\":\"103\",\"topicId\":\"210665b6-55ff-4064-bb08-b2d089b7e7ab\",\"distance\":0.571},{\"documentId\":\"34\",\"topicId\":\"210665b6-55ff-4064-bb08-b2d089b7e7ab\",\"distance\":0.5629},{\"documentId\":\"45\",\"topicId\":\"210665b6-55ff-4064-bb08-b2d089b7e7ab\",\"distance\":0.6181},{\"documentId\":\"34\",\"topicId\":\"87c9f484-194c-4cc7-a3b1-9d300334b686\",\"distance\":0.5629},{\"documentId\":\"45\",\"topicId\":\"87c9f484-194c-4cc7-a3b1-9d300334b686\",\"distance\":0.6181},{\"documentId\":\"1\",\"topicId\":\"78dd4491-ad17-4641-9385-03cdbf1871d8\",\"distance\":0.643},{\"documentId\":\"19\",\"topicId\":\"78dd4491-ad17-4641-9385-03cdbf1871d8\",\"distance\":0.3445},{\"documentId\":\"20\",\"topicId\":\"78dd4491-ad17-4641-9385-03cdbf1871d8\",\"distance\":0.6821},{\"documentId\":\"12\",\"topicId\":\"5c8e8d4d-ae41-40c5-bac0-c9594843a7e6\",\"distance\":0.6355},{\"documentId\":\"23\",\"topicId\":\"5c8e8d4d-ae41-40c5-bac0-c9594843a7e6\",\"distance\":0.5036},{\"documentId\":\"78\",\"topicId\":\"c4781395-e7e8-443e-8425-6e7827143cdd\",\"distance\":0.7377},{\"documentId\":\"12\",\"topicId\":\"8e78b56a-093e-461e-baac-887544bd18a7\",\"distance\":0.6355},{\"documentId\":\"23\",\"topicId\":\"8e78b56a-093e-461e-baac-887544bd18a7\",\"distance\":0.5036},{\"documentId\":\"78\",\"topicId\":\"8e78b56a-093e-461e-baac-887544bd18a7\",\"distance\":0.7377},{\"documentId\":\"52\",\"topicId\":\"41e2e9c0-3b91-4937-9f11-77a698de86b7\",\"distance\":0.5956},{\"documentId\":\"54\",\"topicId\":\"41e2e9c0-3b91-4937-9f11-77a698de86b7\",\"distance\":0.5673},{\"documentId\":\"92\",\"topicId\":\"f940d5d0-79a4-438f-b950-659df1b2e9f0\",\"distance\":0.7821},{\"documentId\":\"0\",\"topicId\":\"d681efbd-3c6d-4b3f-9f5f-31fdaa5003d4\",\"distance\":0.4119},{\"documentId\":\"89\",\"topicId\":\"d681efbd-3c6d-4b3f-9f5f-31fdaa5003d4\",\"distance\":0.4119},{\"documentId\":\"0\",\"topicId\":\"10dd6aba-9d32-41e3-9cc7-2dba032db096\",\"distance\":0.4119},{\"documentId\":\"89\",\"topicId\":\"10dd6aba-9d32-41e3-9cc7-2dba032db096\",\"distance\":0.4119},{\"documentId\":\"3\",\"topicId\":\"546564d6-1948-42f7-aa02-7a54becf1b82\",\"distance\":0.5037},{\"documentId\":\"90\",\"topicId\":\"546564d6-1948-42f7-aa02-7a54becf1b82\",\"distance\":0.5037},{\"documentId\":\"3\",\"topicId\":\"f00726ae-c094-4996-92a7-53d382dc2b74\",\"distance\":0.5037},{\"documentId\":\"90\",\"topicId\":\"c4781395-e7e8-443e-8425-6e7827143cdd\",\"distance\":0.5037},{\"documentId\":\"43\",\"topicId\":\"d681efbd-3c6d-4b3f-9f5f-31fdaa5003d4\",\"distance\":0.3},{\"documentId\":\"44\",\"topicId\":\"d681efbd-3c6d-4b3f-9f5f-31fdaa5003d4\",\"distance\":0.3},{\"documentId\":\"44\",\"topicId\":\"2137e96e-e89b-4167-aabf-a6c7edc01b1f\",\"distance\":0.3},{\"documentId\":\"56\",\"topicId\":\"02721f2b-224b-4ba9-a29f-6174dde6af93\",\"distance\":0.3662},{\"documentId\":\"67\",\"topicId\":\"02721f2b-224b-4ba9-a29f-6174dde6af93\",\"distance\":0.3662},{\"documentId\":\"67\",\"topicId\":\"8f93ed29-0aa2-4460-8564-7e3f0037c4e0\",\"distance\":0.3662},{\"documentId\":\"56\",\"topicId\":\"ded985f0-990f-40ff-87de-abe04f3d68c9\",\"distance\":0.3662},{\"documentId\":\"91\",\"topicId\":\"2d0eda0a-4603-4bca-a600-03f02cc2e7da\",\"distance\":0.4565},{\"documentId\":\"107\",\"topicId\":\"2d0eda0a-4603-4bca-a600-03f02cc2e7da\",\"distance\":0.4565},{\"documentId\":\"107\",\"topicId\":\"409329e1-cb8c-40f2-9883-63e7a5a544ec\",\"distance\":0.4565},{\"documentId\":\"91\",\"topicId\":\"f940d5d0-79a4-438f-b950-659df1b2e9f0\",\"distance\":0.4565}],\"errors\":[],\"discriminator\":\"TopicDetectionResultV2\"}}\n"
     ]
    }
   ],
   "source": [
    "conn = httplib.HTTPSConnection('westus.api.cognitive.microsoft.com')\n",
    "conn.request(\"GET\", \"/text/analytics/v2.0/operations/333b6200098544d688268ed4e6ccc110\",\n",
    "             \"\",\n",
    "             header\n",
    "            )\n",
    "response = conn.getresponse()\n",
    "print response.msg\n",
    "print response.status\n",
    "print response.read()\n",
    "conn.close()"
   ]
  },
  {
   "cell_type": "code",
   "execution_count": 109,
   "metadata": {},
   "outputs": [
    {
     "name": "stdout",
     "output_type": "stream",
     "text": [
      "OperationId:  3aceb6388d2f4ae9964004e54016b80d\n",
      "NotStarted\n",
      "NotStarted\n",
      "Running\n",
      "Running\n",
      "Running\n",
      "Running\n",
      "Running\n",
      "<type 'str'>\n"
     ]
    }
   ],
   "source": [
    "output = topic_request(generate_json_request(pd_text))\n",
    "print type(output)"
   ]
  },
  {
   "cell_type": "code",
   "execution_count": 120,
   "metadata": {},
   "outputs": [
    {
     "data": {
      "text/plain": [
       "[{u'id': u'8bf50430-5217-4ada-99fb-d90709b7e6db',\n",
       "  u'keyPhrase': u'christina iran rancho',\n",
       "  u'score': 2.0},\n",
       " {u'id': u'2e22edef-79c4-4fdb-977c-cd0ecd69f76f',\n",
       "  u'keyPhrase': u'iran christina rachel',\n",
       "  u'score': 2.0},\n",
       " {u'id': u'7c11d5f9-f558-46ee-93c8-2a9db0149540',\n",
       "  u'keyPhrase': u'municipality',\n",
       "  u'score': 5.0},\n",
       " {u'id': u'07090802-401f-44cf-988f-43b62798020b',\n",
       "  u'keyPhrase': u'municipality on christina',\n",
       "  u'score': 2.0},\n",
       " {u'id': u'0921feb5-cff4-4020-9051-3436bf5764ba',\n",
       "  u'keyPhrase': u'real estate developer',\n",
       "  u'score': 3.0},\n",
       " {u'id': u'5f44329d-119d-4acd-bdff-d72d75ce5810',\n",
       "  u'keyPhrase': u'connected with APC tom in india',\n",
       "  u'score': 2.0},\n",
       " {u'id': u'cd8ce531-cd85-4596-a3d8-d54f1c1b883c',\n",
       "  u'keyPhrase': u'connected with mac',\n",
       "  u'score': 2.0},\n",
       " {u'id': u'e2d3ce37-42fe-47d8-8bab-ce67f50fd924',\n",
       "  u'keyPhrase': u'mac',\n",
       "  u'score': 3.0},\n",
       " {u'id': u'd5ff39e1-bb6f-4934-9006-db895aa3995d',\n",
       "  u'keyPhrase': u'final questions',\n",
       "  u'score': 2.0},\n",
       " {u'id': u'c9b28acd-f5d4-449d-9ce4-9b197626a33d',\n",
       "  u'keyPhrase': u'final issues',\n",
       "  u'score': 2.0},\n",
       " {u'id': u'5733325f-b61b-46be-af60-0d4d9ecac3d7',\n",
       "  u'keyPhrase': u'convention center',\n",
       "  u'score': 4.0},\n",
       " {u'id': u'3a02ce04-cc57-4f77-b7c1-7d397cb7ed90',\n",
       "  u'keyPhrase': u'piece of land',\n",
       "  u'score': 2.0},\n",
       " {u'id': u'cca4aebc-9754-49f5-9e01-164d9271828a',\n",
       "  u'keyPhrase': u'team leader',\n",
       "  u'score': 2.0},\n",
       " {u'id': u'300134a6-bdbe-4bc9-95a6-6b7f7a68665e',\n",
       "  u'keyPhrase': u'release date',\n",
       "  u'score': 1.0},\n",
       " {u'id': u'0c8cecab-1ae2-41e4-879c-fd8c091c6eff',\n",
       "  u'keyPhrase': u'convention center with space',\n",
       "  u'score': 1.0},\n",
       " {u'id': u'5886babe-55a4-48ff-a2c3-93eb4fdfef6c',\n",
       "  u'keyPhrase': u'vicki',\n",
       "  u'score': 2.0},\n",
       " {u'id': u'a01726e0-3b5c-455c-9cb2-1beb7a084f30',\n",
       "  u'keyPhrase': u'vicki in france',\n",
       "  u'score': 1.0},\n",
       " {u'id': u'cf07d95b-1ef8-4b7c-b67f-83d3b6e7ee8c',\n",
       "  u'keyPhrase': u'ran in india',\n",
       "  u'score': 1.0},\n",
       " {u'id': u'5dd466b4-85ac-47ea-ae2a-134a05941945',\n",
       "  u'keyPhrase': u'alexander',\n",
       "  u'score': 2.0},\n",
       " {u'id': u'7664a605-4a00-46c0-85af-c6237d458ce7',\n",
       "  u'keyPhrase': u'bring alexander',\n",
       "  u'score': 1.0}]"
      ]
     },
     "execution_count": 120,
     "metadata": {},
     "output_type": "execute_result"
    }
   ],
   "source": [
    "json.loads(output)[\"operationProcessingResult\"][\"topics\"]"
   ]
  }
 ],
 "metadata": {
  "kernelspec": {
   "display_name": "Python 2",
   "language": "python",
   "name": "python2"
  },
  "language_info": {
   "codemirror_mode": {
    "name": "ipython",
    "version": 2
   },
   "file_extension": ".py",
   "mimetype": "text/x-python",
   "name": "python",
   "nbconvert_exporter": "python",
   "pygments_lexer": "ipython2",
   "version": "2.7.12"
  }
 },
 "nbformat": 4,
 "nbformat_minor": 2
}
