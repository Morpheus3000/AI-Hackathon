{
 "cells": [
  {
   "cell_type": "code",
   "execution_count": 12,
   "metadata": {},
   "outputs": [],
   "source": [
    "import numpy as np\n",
    "import pandas as pd\n",
    "import json\n",
    "import requests\n",
    "import urllib\n",
    "import httplib\n",
    "import base64"
   ]
  },
  {
   "cell_type": "code",
   "execution_count": 30,
   "metadata": {},
   "outputs": [
    {
     "data": {
      "text/html": [
       "<div>\n",
       "<style>\n",
       "    .dataframe thead tr:only-child th {\n",
       "        text-align: right;\n",
       "    }\n",
       "\n",
       "    .dataframe thead th {\n",
       "        text-align: left;\n",
       "    }\n",
       "\n",
       "    .dataframe tbody tr th {\n",
       "        vertical-align: top;\n",
       "    }\n",
       "</style>\n",
       "<table border=\"1\" class=\"dataframe\">\n",
       "  <thead>\n",
       "    <tr style=\"text-align: right;\">\n",
       "      <th></th>\n",
       "      <th>text</th>\n",
       "    </tr>\n",
       "  </thead>\n",
       "  <tbody>\n",
       "    <tr>\n",
       "      <th>0</th>\n",
       "      <td>Such a lovely hackathon we are in!</td>\n",
       "    </tr>\n",
       "    <tr>\n",
       "      <th>1</th>\n",
       "      <td>We are definitely going to</td>\n",
       "    </tr>\n",
       "    <tr>\n",
       "      <th>2</th>\n",
       "      <td>win and to go Paris!</td>\n",
       "    </tr>\n",
       "  </tbody>\n",
       "</table>\n",
       "</div>"
      ],
      "text/plain": [
       "                                 text\n",
       "0  Such a lovely hackathon we are in!\n",
       "1          We are definitely going to\n",
       "2                win and to go Paris!"
      ]
     },
     "execution_count": 30,
     "metadata": {},
     "output_type": "execute_result"
    }
   ],
   "source": [
    "sample_text = {0 : \"Such a lovely hackathon we are in!\", 1 : \"We are definitely going to\", 2 : \"win and to go Paris!\"}\n",
    "pd_text = pd.DataFrame(pd.Series(sample_text).rename(\"text\"))\n",
    "pd_text.head()"
   ]
  },
  {
   "cell_type": "code",
   "execution_count": 3,
   "metadata": {
    "collapsed": true
   },
   "outputs": [],
   "source": [
    "api_endpoint = \"https://westus.api.cognitive.microsoft.com/text/analytics/v2.0\"\n",
    "api_key_one = \"28d6776ec31844a1aeb1095be8d99192\"\n",
    "api_key_two = \"ec713e3e3ed64186aa185d02acbf5014\""
   ]
  },
  {
   "cell_type": "code",
   "execution_count": 18,
   "metadata": {},
   "outputs": [
    {
     "name": "stdout",
     "output_type": "stream",
     "text": [
      "{\"documents\": [{\"lang\": \"en\", \"text\": \"Such a lovely hackathon we are in!\", \"id\": 0}, {\"lang\": \"en\", \"text\": \"We definitely going to\", \"id\": 1}, {\"lang\": \"en\", \"text\": \"win and to go Paris!\", \"id\": 2}]}\n"
     ]
    }
   ],
   "source": [
    "def generate_json_request(pd_text):\n",
    "    request = {}\n",
    "    request[\"documents\"] = []\n",
    "    \n",
    "    for index, row in pd_text.iterrows():\n",
    "        phrase = {}\n",
    "        phrase[\"lang\"] = \"en\"\n",
    "        phrase[\"id\"] = index\n",
    "        phrase[\"text\"] = row[\"text\"]\n",
    "        request[\"documents\"].append(phrase)\n",
    "    return json.dumps(request)\n",
    "\n",
    "json_request = generate_json_request(pd_text)\n",
    "print json_request"
   ]
  },
  {
   "cell_type": "code",
   "execution_count": 21,
   "metadata": {},
   "outputs": [],
   "source": [
    "def process_request(json_request):\n",
    "    header = {\n",
    "    'Accept' : 'application/json',\n",
    "    'Content-Type': 'application/json',\n",
    "    'Ocp-Apim-Subscription-Key': '28d6776ec31844a1aeb1095be8d99192',\n",
    "    }\n",
    "    try:\n",
    "        conn = httplib.HTTPSConnection('westus.api.cognitive.microsoft.com')\n",
    "        \n",
    "        conn.request(\"POST\", \"/text/analytics/v2.0/sentiment\", json_request, header)\n",
    "        response = conn.getresponse()\n",
    "        sentiment_data = response.read()\n",
    "        \n",
    "        conn.request(\"POST\", \"/text/analytics/v2.0/keyPhrases\", json_request, header)\n",
    "        response = conn.getresponse()\n",
    "        key_phrase_data = response.read()\n",
    "        \n",
    "        conn.close()\n",
    "        return sentiment_data, key_phrase_data\n",
    "    except Exception as e:\n",
    "        print(\"[Errno {0}] {1}\".format(e.errno, e.strerror))\n",
    "        return None    "
   ]
  },
  {
   "cell_type": "code",
   "execution_count": 22,
   "metadata": {
    "collapsed": true
   },
   "outputs": [],
   "source": [
    "sentiment_data, key_phrase_data = process_request(json_request)"
   ]
  },
  {
   "cell_type": "code",
   "execution_count": 32,
   "metadata": {},
   "outputs": [],
   "source": [
    "def add_text_analysis(base_df, sentiment_data, key_phrase_data):\n",
    "    sentiment_dict = {}\n",
    "    for entry in json.loads(sentiment_data)[\"documents\"]:\n",
    "        sentiment_dict[int(entry[\"id\"])] = entry[\"score\"]\n",
    "\n",
    "    key_phrase_dict = {}\n",
    "    for entry in json.loads(key_phrase_data)[\"documents\"]:\n",
    "        key_phrase_dict[int(entry[\"id\"])] = entry[\"keyPhrases\"]\n",
    "\n",
    "    final_pd = pd.DataFrame(base_df)\n",
    "    final_pd[\"sentiment_score\"] = pd.Series(sentiment_dict)\n",
    "    final_pd[\"key_phrases\"] = pd.Series(key_phrase_dict)\n",
    "    return final_pd"
   ]
  },
  {
   "cell_type": "code",
   "execution_count": 33,
   "metadata": {
    "collapsed": true
   },
   "outputs": [],
   "source": [
    "def main(base_df):\n",
    "    json_request = generate_json_request(base_df)\n",
    "    sentiment_data, key_phrase_data = process_request(json_request)\n",
    "    final_df = add_text_analysis(base_df, sentiment_data, key_phrase_data)\n",
    "    return final_pd"
   ]
  },
  {
   "cell_type": "code",
   "execution_count": 34,
   "metadata": {
    "collapsed": true
   },
   "outputs": [],
   "source": [
    "final_pd = main(pd_text)"
   ]
  },
  {
   "cell_type": "code",
   "execution_count": 35,
   "metadata": {},
   "outputs": [
    {
     "data": {
      "text/html": [
       "<div>\n",
       "<style>\n",
       "    .dataframe thead tr:only-child th {\n",
       "        text-align: right;\n",
       "    }\n",
       "\n",
       "    .dataframe thead th {\n",
       "        text-align: left;\n",
       "    }\n",
       "\n",
       "    .dataframe tbody tr th {\n",
       "        vertical-align: top;\n",
       "    }\n",
       "</style>\n",
       "<table border=\"1\" class=\"dataframe\">\n",
       "  <thead>\n",
       "    <tr style=\"text-align: right;\">\n",
       "      <th></th>\n",
       "      <th>text</th>\n",
       "      <th>sentiment_score</th>\n",
       "      <th>key_phrases</th>\n",
       "    </tr>\n",
       "  </thead>\n",
       "  <tbody>\n",
       "    <tr>\n",
       "      <th>0</th>\n",
       "      <td>Such a lovely hackathon we are in!</td>\n",
       "      <td>0.967976</td>\n",
       "      <td>[lovely hackathon]</td>\n",
       "    </tr>\n",
       "    <tr>\n",
       "      <th>1</th>\n",
       "      <td>We are definitely going to</td>\n",
       "      <td>0.950928</td>\n",
       "      <td>[]</td>\n",
       "    </tr>\n",
       "    <tr>\n",
       "      <th>2</th>\n",
       "      <td>win and to go Paris!</td>\n",
       "      <td>0.870765</td>\n",
       "      <td>[win]</td>\n",
       "    </tr>\n",
       "  </tbody>\n",
       "</table>\n",
       "</div>"
      ],
      "text/plain": [
       "                                 text  sentiment_score         key_phrases\n",
       "0  Such a lovely hackathon we are in!         0.967976  [lovely hackathon]\n",
       "1          We are definitely going to         0.950928                  []\n",
       "2                win and to go Paris!         0.870765               [win]"
      ]
     },
     "execution_count": 35,
     "metadata": {},
     "output_type": "execute_result"
    }
   ],
   "source": [
    "final_pd"
   ]
  }
 ],
 "metadata": {
  "kernelspec": {
   "display_name": "Python [default]",
   "language": "python",
   "name": "python2"
  },
  "language_info": {
   "codemirror_mode": {
    "name": "ipython",
    "version": 2
   },
   "file_extension": ".py",
   "mimetype": "text/x-python",
   "name": "python",
   "nbconvert_exporter": "python",
   "pygments_lexer": "ipython2",
   "version": "2.7.12"
  }
 },
 "nbformat": 4,
 "nbformat_minor": 2
}
