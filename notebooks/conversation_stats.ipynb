{
 "cells": [
  {
   "cell_type": "code",
   "execution_count": 1,
   "metadata": {
    "collapsed": true
   },
   "outputs": [],
   "source": [
    "import pandas as pd"
   ]
  },
  {
   "cell_type": "code",
   "execution_count": 3,
   "metadata": {},
   "outputs": [
    {
     "name": "stdout",
     "output_type": "stream",
     "text": [
      "   Unnamed: 0  Unnamed: 0.1  confidence  start_second    text  \\\n",
      "0           0             0    0.821972             0     yes   \n",
      "1           1             1    0.900771         10000  second   \n",
      "2           2             2    0.802419        100000   hello   \n",
      "3           3             3    0.796924        105000   hello   \n",
      "4           4             4    0.000000        110000     NaN   \n",
      "\n",
      "   sentiment_score key_phrases Person  \n",
      "0         0.995442       [u'']   Adam  \n",
      "1         0.500000       [u'']   Adam  \n",
      "2         0.785587       [u'']   Adam  \n",
      "3         0.785587       [u'']   Adam  \n",
      "4         0.500000    [u'NaN']   Adam  \n",
      "   Unnamed: 0  Unnamed: 0.1  confidence  start_second  \\\n",
      "0           0             0    0.812953             0   \n",
      "1           1             1    0.913072         10000   \n",
      "2           2             2    0.000000        100000   \n",
      "3           3             3    0.778180        105000   \n",
      "4           4             4    0.773922        110000   \n",
      "\n",
      "                                                text  sentiment_score  \\\n",
      "0                                           everyone         0.500000   \n",
      "1  OK nice guys that we have some time discussing...         0.989984   \n",
      "2                                                NaN         0.500000   \n",
      "3                        your blaming me now as well         0.159643   \n",
      "4                        your blaming me now as well         0.159643   \n",
      "\n",
      "                  key_phrases  Person  \n",
      "0                       [u'']  Arthur  \n",
      "1  [u'time', u'OK nice guys']  Arthur  \n",
      "2                    [u'NaN']  Arthur  \n",
      "3                       [u'']  Arthur  \n",
      "4                       [u'']  Arthur  \n",
      "   Unnamed: 0  Unnamed: 0.1  confidence  start_second  \\\n",
      "0           0             0    0.610547             0   \n",
      "1           1             1    0.000000         10000   \n",
      "2           2             2    0.740968        100000   \n",
      "3           3             3    0.823001        105000   \n",
      "4           4             4    0.000000        110000   \n",
      "\n",
      "                                                text  sentiment_score  \\\n",
      "0                                          yeah yeah         0.997898   \n",
      "1                                                NaN         0.500000   \n",
      "2  will it be with single women single double single         0.500000   \n",
      "3  will it be with single women single we will sy...         0.500000   \n",
      "4                                                NaN         0.500000   \n",
      "\n",
      "                              key_phrases  Person  \n",
      "0                                   [u'']  Ashaya  \n",
      "1                                [u'NaN']  Ashaya  \n",
      "2  [u'single women single double single']  Ashaya  \n",
      "3    [u'single women single', u'meeting']  Ashaya  \n",
      "4                                [u'NaN']  Ashaya  \n"
     ]
    }
   ],
   "source": [
    "adam_pd = pd.read_csv(\"Score_Adam.csv\")\n",
    "arthur_pd = pd.read_csv(\"Score_Arthur.csv\")\n",
    "ashaya_pd = pd.read_csv(\"speech_to_text/score_ashaya.csv\")\n",
    "adam_pd[\"Person\"] = \"Adam\"\n",
    "arthur_pd[\"Person\"] = \"Arthur\"\n",
    "ashaya_pd[\"Person\"] = \"Ashaya\"\n",
    "\n",
    "print adam_pd.head()\n",
    "print arthur_pd.head()\n",
    "print ashaya_pd.head()"
   ]
  },
  {
   "cell_type": "code",
   "execution_count": 10,
   "metadata": {},
   "outputs": [
    {
     "name": "stdout",
     "output_type": "stream",
     "text": [
      "0.28441410694\n",
      "0.273037542662\n",
      "0.442548350398\n"
     ]
    }
   ],
   "source": [
    "def count_words(df):\n",
    "    word_count = df[\"text\"].fillna(\"\").apply(lambda x: len(x.split()))\n",
    "    return sum(word_count)\n",
    "\n",
    "adam_words = count_words(adam_pd)\n",
    "ashaya_words = count_words(ashaya_pd)\n",
    "arthur_words = count_words(arthur_pd)\n",
    "total_words = adam_words + ashaya_words + arthur_words\n",
    "print float(adam_words) / total_words\n",
    "print float(ashaya_words) / total_words\n",
    "print float(arthur_words) / total_words"
   ]
  },
  {
   "cell_type": "code",
   "execution_count": 4,
   "metadata": {
    "collapsed": true
   },
   "outputs": [],
   "source": [
    "union_pd = pd.concat([adam_pd, ashaya_pd, arthur_pd]).reset_index()\n",
    "union_pd.to_csv(\"union_dataframe.csv\")"
   ]
  }
 ],
 "metadata": {
  "kernelspec": {
   "display_name": "Python 2",
   "language": "python",
   "name": "python2"
  },
  "language_info": {
   "codemirror_mode": {
    "name": "ipython",
    "version": 2
   },
   "file_extension": ".py",
   "mimetype": "text/x-python",
   "name": "python",
   "nbconvert_exporter": "python",
   "pygments_lexer": "ipython2",
   "version": "2.7.12"
  }
 },
 "nbformat": 4,
 "nbformat_minor": 2
}
