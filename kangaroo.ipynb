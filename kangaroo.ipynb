{
 "cells": [
  {
   "cell_type": "code",
   "execution_count": 8,
   "metadata": {},
   "outputs": [],
   "source": [
    "import cv2\n",
    "import matplotlib.pyplot as plt\n",
    "import numpy as np\n",
    "import yaml\n",
    "from matplotlib.pyplot import imshow\n",
    "%matplotlib inline\n",
    "%reload_ext autoreload\n",
    "%autoreload"
   ]
  },
  {
   "cell_type": "code",
   "execution_count": 18,
   "metadata": {
    "collapsed": true
   },
   "outputs": [],
   "source": [
    "video_file = 'Demo of Online Meeting via Zoom with Participants from Around the World-261OCjeg9GI.mp4'\n",
    "audio_file = video_file + '.wav'\n",
    "with open('../../api_keys.yml', 'r') as f:\n",
    "    keys = yaml.load(f)"
   ]
  },
  {
   "cell_type": "code",
   "execution_count": 20,
   "metadata": {},
   "outputs": [
    {
     "name": "stdout",
     "output_type": "stream",
     "text": [
      "Read a new frame:  True\n"
     ]
    },
    {
     "data": {
      "image/png": "[encoded data removed]",
      "text/plain": [
       "<matplotlib.figure.Figure at 0x114bba150>"
      ]
     },
     "metadata": {},
     "output_type": "display_data"
    },
    {
     "ename": "AttributeError",
     "evalue": "'module' object has no attribute 'CV_CAP_PROP_FRAME_COUNT'",
     "output_type": "error",
     "traceback": [
      "\u001b[0;31m---------------------------------------------------------------------------\u001b[0m",
      "\u001b[0;31mAttributeError\u001b[0m                            Traceback (most recent call last)",
      "\u001b[0;32m<ipython-input-20-1c461365cd29>\u001b[0m in \u001b[0;36m<module>\u001b[0;34m()\u001b[0m\n\u001b[1;32m      6\u001b[0m \u001b[0;31m# cv2.imwrite(\"frame%d.jpg\" % count, image)     # save frame as JPEG file\u001b[0m\u001b[0;34m\u001b[0m\u001b[0;34m\u001b[0m\u001b[0m\n\u001b[1;32m      7\u001b[0m \u001b[0mvidcap\u001b[0m\u001b[0;34m.\u001b[0m\u001b[0mrelease\u001b[0m\u001b[0;34m(\u001b[0m\u001b[0;34m)\u001b[0m\u001b[0;34m\u001b[0m\u001b[0m\n\u001b[0;32m----> 8\u001b[0;31m \u001b[0mtotalnoframes\u001b[0m \u001b[0;34m=\u001b[0m \u001b[0mvidcap\u001b[0m\u001b[0;34m.\u001b[0m\u001b[0mget\u001b[0m\u001b[0;34m(\u001b[0m\u001b[0mcv2\u001b[0m\u001b[0;34m.\u001b[0m\u001b[0mCV_CAP_PROP_FRAME_COUNT\u001b[0m\u001b[0;34m)\u001b[0m\u001b[0;34m\u001b[0m\u001b[0m\n\u001b[0m\u001b[1;32m      9\u001b[0m \u001b[0mtotaldurationMS\u001b[0m \u001b[0;34m=\u001b[0m \u001b[0;36m1000\u001b[0m\u001b[0;34m*\u001b[0m\u001b[0mtotalnoframes\u001b[0m\u001b[0;34m/\u001b[0m\u001b[0mvidcap\u001b[0m\u001b[0;34m.\u001b[0m\u001b[0mget\u001b[0m\u001b[0;34m(\u001b[0m\u001b[0mcv2\u001b[0m\u001b[0;34m.\u001b[0m\u001b[0mCV_CAP_PROP_FPS\u001b[0m\u001b[0;34m)\u001b[0m\u001b[0;34m\u001b[0m\u001b[0m\n\u001b[1;32m     10\u001b[0m \u001b[0;32mprint\u001b[0m\u001b[0;34m(\u001b[0m\u001b[0;34m'Number of frames: %i'\u001b[0m \u001b[0;34m%\u001b[0m \u001b[0mtotalnoframes\u001b[0m\u001b[0;34m)\u001b[0m\u001b[0;34m\u001b[0m\u001b[0m\n",
      "\u001b[0;31mAttributeError\u001b[0m: 'module' object has no attribute 'CV_CAP_PROP_FRAME_COUNT'"
     ]
    }
   ],
   "source": [
    "vidcap = cv2.VideoCapture(video_file)\n",
    "success, image = vidcap.read()\n",
    "print 'Read a new frame: ', success\n",
    "plt.imshow(image)\n",
    "plt.show()\n",
    "# cv2.imwrite(\"frame%d.jpg\" % count, image)     # save frame as JPEG file\n",
    "vidcap.release()\n",
    "totalnoframes = vidcap.get(cv2.cv.CV_CAP_PROP_FRAME_COUNT)\n",
    "totaldurationMS = 1000*totalnoframes/vidcap.get(cv2.cv.CV_CAP_PROP_FPS)\n",
    "print('Number of frames: %i' % totalnoframes)\n",
    "print('Duration %f ms' % totalnoframes)"
   ]
  },
  {
   "cell_type": "code",
   "execution_count": 27,
   "metadata": {},
   "outputs": [
    {
     "name": "stdout",
     "output_type": "stream",
     "text": [
      "ffmpeg version 3.3.2 Copyright (c) 2000-2017 the FFmpeg developers\n",
      "  built with Apple LLVM version 8.1.0 (clang-802.0.42)\n",
      "  configuration: --prefix=/usr/local/Cellar/ffmpeg/3.3.2 --enable-shared --enable-pthreads --enable-gpl --enable-version3 --enable-hardcoded-tables --enable-avresample --cc=clang --host-cflags= --host-ldflags= --enable-libmp3lame --enable-libx264 --enable-libxvid --enable-opencl --disable-lzma --enable-vda\n",
      "  libavutil      55. 58.100 / 55. 58.100\n",
      "  libavcodec     57. 89.100 / 57. 89.100\n",
      "  libavformat    57. 71.100 / 57. 71.100\n",
      "  libavdevice    57.  6.100 / 57.  6.100\n",
      "  libavfilter     6. 82.100 /  6. 82.100\n",
      "  libavresample   3.  5.  0 /  3.  5.  0\n",
      "  libswscale      4.  6.100 /  4.  6.100\n",
      "  libswresample   2.  7.100 /  2.  7.100\n",
      "  libpostproc    54.  5.100 / 54.  5.100\n",
      "Input #0, mov,mp4,m4a,3gp,3g2,mj2, from 'Demo of Online Meeting via Zoom with Participants from Around the World-261OCjeg9GI.mp4':\n",
      "  Metadata:\n",
      "    major_brand     : mp42\n",
      "    minor_version   : 0\n",
      "    compatible_brands: isommp42\n",
      "    creation_time   : 2016-10-12T07:53:58.000000Z\n",
      "  Duration: 00:09:05.85, start: 0.000000, bitrate: 653 kb/s\n",
      "    Stream #0:0(und): Video: h264 (Main) (avc1 / 0x31637661), yuv420p(tv, bt709), 1280x720 [SAR 1:1 DAR 16:9], 523 kb/s, 30 fps, 30 tbr, 90k tbn, 60 tbc (default)\n",
      "    Metadata:\n",
      "      creation_time   : 2016-10-12T07:53:58.000000Z\n",
      "      handler_name    : ISO Media file produced by Google Inc.\n",
      "    Stream #0:1(und): Audio: aac (LC) (mp4a / 0x6134706D), 44100 Hz, stereo, fltp, 125 kb/s (default)\n",
      "    Metadata:\n",
      "      creation_time   : 2016-10-12T07:53:58.000000Z\n",
      "      handler_name    : ISO Media file produced by Google Inc.\n",
      "Stream mapping:\n",
      "  Stream #0:1 -> #0:0 (aac (native) -> pcm_s16le (native))\n",
      "Press [q] to stop, [?] for help\n",
      "Output #0, wav, to 'Demo of Online Meeting via Zoom with Participants from Around the World-261OCjeg9GI.mp4.wav':\n",
      "  Metadata:\n",
      "    major_brand     : mp42\n",
      "    minor_version   : 0\n",
      "    compatible_brands: isommp42\n",
      "    ISFT            : Lavf57.71.100\n",
      "    Stream #0:0(und): Audio: pcm_s16le ([1][0][0][0] / 0x0001), 16000 Hz, mono, s16, 256 kb/s (default)\n",
      "    Metadata:\n",
      "      creation_time   : 2016-10-12T07:53:58.000000Z\n",
      "      handler_name    : ISO Media file produced by Google Inc.\n",
      "      encoder         : Lavc57.89.100 pcm_s16le\n",
      "size=     313kB time=00:00:10.00 bitrate= 256.1kbits/s speed=22.8x    \n",
      "video:0kB audio:312kB subtitle:0kB other streams:0kB global headers:0kB muxing overhead: 0.024375%\n"
     ]
    }
   ],
   "source": [
    "# !ffmpeg -i '$video_file'\n",
    "# print audio_file\n",
    "!ffmpeg -y -i '$video_file' -ac 1 -ar 16000 -ss 00:03:05 -t 00:00:10.0 -q:a 0 -map a '$audio_file'"
   ]
  },
  {
   "cell_type": "code",
   "execution_count": 9,
   "metadata": {},
   "outputs": [
    {
     "name": "stdout",
     "output_type": "stream",
     "text": [
      "Seconds: 10\n"
     ]
    },
    {
     "ename": "RequestError",
     "evalue": "recognition request failed: Resource Not Found",
     "output_type": "error",
     "traceback": [
      "\u001b[0;31m---------------------------------------------------------------------------\u001b[0m",
      "\u001b[0;31mRequestError\u001b[0m                              Traceback (most recent call last)",
      "\u001b[0;32m<ipython-input-9-da9ba07ddd93>\u001b[0m in \u001b[0;36m<module>\u001b[0;34m()\u001b[0m\n\u001b[1;32m     18\u001b[0m     \u001b[0;32mprint\u001b[0m\u001b[0;34m(\u001b[0m\u001b[0;34m'Bing:'\u001b[0m \u001b[0;34m+\u001b[0m \u001b[0mtext\u001b[0m\u001b[0;34m.\u001b[0m\u001b[0mencode\u001b[0m\u001b[0;34m(\u001b[0m\u001b[0;34m'utf-8'\u001b[0m\u001b[0;34m)\u001b[0m\u001b[0;34m)\u001b[0m\u001b[0;34m\u001b[0m\u001b[0m\n\u001b[1;32m     19\u001b[0m \u001b[0;34m\u001b[0m\u001b[0m\n\u001b[0;32m---> 20\u001b[0;31m \u001b[0mspeech_to_text\u001b[0m\u001b[0;34m(\u001b[0m\u001b[0maudio_file\u001b[0m\u001b[0;34m)\u001b[0m\u001b[0;34m\u001b[0m\u001b[0m\n\u001b[0m",
      "\u001b[0;32m<ipython-input-9-da9ba07ddd93>\u001b[0m in \u001b[0;36mspeech_to_text\u001b[0;34m(filename)\u001b[0m\n\u001b[1;32m     15\u001b[0m     \u001b[0mbing\u001b[0m \u001b[0;34m=\u001b[0m \u001b[0mBingVoice\u001b[0m\u001b[0;34m(\u001b[0m\u001b[0mkeys\u001b[0m\u001b[0;34m[\u001b[0m\u001b[0;34m'binq_voice_key_1'\u001b[0m\u001b[0;34m]\u001b[0m\u001b[0;34m,\u001b[0m \u001b[0mkeys\u001b[0m\u001b[0;34m[\u001b[0m\u001b[0;34m'binq_voice_endpoint'\u001b[0m\u001b[0;34m]\u001b[0m\u001b[0;34m)\u001b[0m\u001b[0;34m\u001b[0m\u001b[0m\n\u001b[1;32m     16\u001b[0m \u001b[0;34m\u001b[0m\u001b[0m\n\u001b[0;32m---> 17\u001b[0;31m     \u001b[0mtext\u001b[0m \u001b[0;34m=\u001b[0m \u001b[0mbing\u001b[0m\u001b[0;34m.\u001b[0m\u001b[0mrecognize\u001b[0m\u001b[0;34m(\u001b[0m\u001b[0mframes\u001b[0m\u001b[0;34m,\u001b[0m \u001b[0mlanguage\u001b[0m\u001b[0;34m=\u001b[0m\u001b[0;34m'en-US'\u001b[0m\u001b[0;34m)\u001b[0m\u001b[0;34m\u001b[0m\u001b[0m\n\u001b[0m\u001b[1;32m     18\u001b[0m     \u001b[0;32mprint\u001b[0m\u001b[0;34m(\u001b[0m\u001b[0;34m'Bing:'\u001b[0m \u001b[0;34m+\u001b[0m \u001b[0mtext\u001b[0m\u001b[0;34m.\u001b[0m\u001b[0mencode\u001b[0m\u001b[0;34m(\u001b[0m\u001b[0;34m'utf-8'\u001b[0m\u001b[0;34m)\u001b[0m\u001b[0;34m)\u001b[0m\u001b[0;34m\u001b[0m\u001b[0m\n\u001b[1;32m     19\u001b[0m \u001b[0;34m\u001b[0m\u001b[0m\n",
      "\u001b[0;32m/Users/spastukhov/Documents/ds/aihackathon2017/AI-Hackathon/binq_voice.py\u001b[0m in \u001b[0;36mrecognize\u001b[0;34m(self, audio_data, language, show_all)\u001b[0m\n\u001b[1;32m     92\u001b[0m     \u001b[0;32mdef\u001b[0m \u001b[0mrecognize\u001b[0m\u001b[0;34m(\u001b[0m\u001b[0mself\u001b[0m\u001b[0;34m,\u001b[0m \u001b[0maudio_data\u001b[0m\u001b[0;34m,\u001b[0m \u001b[0mlanguage\u001b[0m\u001b[0;34m=\u001b[0m\u001b[0;34m\"en-US\"\u001b[0m\u001b[0;34m,\u001b[0m \u001b[0mshow_all\u001b[0m\u001b[0;34m=\u001b[0m\u001b[0mFalse\u001b[0m\u001b[0;34m)\u001b[0m\u001b[0;34m:\u001b[0m\u001b[0;34m\u001b[0m\u001b[0m\n\u001b[1;32m     93\u001b[0m         \u001b[0mself\u001b[0m\u001b[0;34m.\u001b[0m\u001b[0mauthenticate\u001b[0m\u001b[0;34m(\u001b[0m\u001b[0;34m)\u001b[0m\u001b[0;34m\u001b[0m\u001b[0m\n\u001b[0;32m---> 94\u001b[0;31m         \u001b[0;32mif\u001b[0m \u001b[0misinstance\u001b[0m\u001b[0;34m(\u001b[0m\u001b[0maudio_data\u001b[0m\u001b[0;34m,\u001b[0m \u001b[0mtypes\u001b[0m\u001b[0;34m.\u001b[0m\u001b[0mGeneratorType\u001b[0m\u001b[0;34m)\u001b[0m\u001b[0;34m:\u001b[0m\u001b[0;34m\u001b[0m\u001b[0m\n\u001b[0m\u001b[1;32m     95\u001b[0m             \u001b[0;32mdef\u001b[0m \u001b[0mgenerate\u001b[0m\u001b[0;34m(\u001b[0m\u001b[0maudio\u001b[0m\u001b[0;34m)\u001b[0m\u001b[0;34m:\u001b[0m\u001b[0;34m\u001b[0m\u001b[0m\n\u001b[1;32m     96\u001b[0m                 \u001b[0;32myield\u001b[0m \u001b[0mself\u001b[0m\u001b[0;34m.\u001b[0m\u001b[0mget_wav_header\u001b[0m\u001b[0;34m(\u001b[0m\u001b[0;34m)\u001b[0m\u001b[0;34m\u001b[0m\u001b[0m\n",
      "\u001b[0;32m/Users/spastukhov/Documents/ds/aihackathon2017/AI-Hackathon/binq_voice.py\u001b[0m in \u001b[0;36mauth\u001b[0;34m(self)\u001b[0m\n\u001b[1;32m     82\u001b[0m             \u001b[0mresponse\u001b[0m \u001b[0;34m=\u001b[0m \u001b[0mself\u001b[0m\u001b[0;34m.\u001b[0m\u001b[0msession\u001b[0m\u001b[0;34m.\u001b[0m\u001b[0mpost\u001b[0m\u001b[0;34m(\u001b[0m\u001b[0mcredential_url\u001b[0m\u001b[0;34m,\u001b[0m \u001b[0mheaders\u001b[0m\u001b[0;34m=\u001b[0m\u001b[0mheaders\u001b[0m\u001b[0;34m)\u001b[0m\u001b[0;34m\u001b[0m\u001b[0m\n\u001b[1;32m     83\u001b[0m \u001b[0;34m\u001b[0m\u001b[0m\n\u001b[0;32m---> 84\u001b[0;31m             \u001b[0;32mif\u001b[0m \u001b[0mresponse\u001b[0m\u001b[0;34m.\u001b[0m\u001b[0mstatus_code\u001b[0m \u001b[0;34m!=\u001b[0m \u001b[0;36m200\u001b[0m\u001b[0;34m:\u001b[0m\u001b[0;34m\u001b[0m\u001b[0m\n\u001b[0m\u001b[1;32m     85\u001b[0m                 \u001b[0;32mraise\u001b[0m \u001b[0mRequestError\u001b[0m\u001b[0;34m(\u001b[0m\u001b[0;34m\"http request error with status code {}\"\u001b[0m\u001b[0;34m.\u001b[0m\u001b[0mformat\u001b[0m\u001b[0;34m(\u001b[0m\u001b[0mresponse\u001b[0m\u001b[0;34m.\u001b[0m\u001b[0mstatus_code\u001b[0m\u001b[0;34m)\u001b[0m\u001b[0;34m)\u001b[0m\u001b[0;34m\u001b[0m\u001b[0m\n\u001b[1;32m     86\u001b[0m \u001b[0;34m\u001b[0m\u001b[0m\n",
      "\u001b[0;31mRequestError\u001b[0m: recognition request failed: Resource Not Found"
     ]
    }
   ],
   "source": [
    "def speech_to_text(filename):\n",
    "    wf = wave.open(filename)\n",
    "    if wf.getframerate() != 16000 or wf.getnchannels() != 1 or wf.getsampwidth() != 2:\n",
    "        print('only support 16000 sample rate, 1 channel and 2 bytes sample width')\n",
    "        return\n",
    "\n",
    "    # read less than 10 seconds audio data\n",
    "    n = wf.getnframes()\n",
    "    if (n / 16000.0) > 10.0:\n",
    "        n = 16000 * 10\n",
    "    print('Seconds: %i' % (n/16000.0))\n",
    "\n",
    "    frames = wf.readframes(n)\n",
    "\n",
    "    bing = BingVoice(keys['binq_voice_key_1'], keys['binq_voice_endpoint'])\n",
    "\n",
    "    text = bing.recognize(frames, language='en-US')\n",
    "    print('Bing:' + text.encode('utf-8'))\n",
    "        \n",
    "speech_to_text(audio_file)"
   ]
  },
  {
   "cell_type": "code",
   "execution_count": 16,
   "metadata": {},
   "outputs": [],
   "source": [
    "import requests\n",
    "import httplib\n",
    "import uuid\n",
    "import json\n",
    "\n",
    "class Microsoft_ASR():\n",
    "    def __init__(self, binq_key):\n",
    "        self.sub_key = binq_key\n",
    "        self.token = None\n",
    "        pass\n",
    "\n",
    "    def get_speech_token(self):\n",
    "        FetchTokenURI = \"/sts/v1.0/issueToken\"\n",
    "        header = {'Ocp-Apim-Subscription-Key': self.sub_key}\n",
    "        conn = httplib.HTTPSConnection('api.cognitive.microsoft.com')\n",
    "        body = \"\"\n",
    "        conn.request(\"POST\", FetchTokenURI, body, header)\n",
    "        response = conn.getresponse()\n",
    "        str_data = response.read()\n",
    "        conn.close()\n",
    "        self.token = str_data\n",
    "#         print \"Got Token: \", self.token\n",
    "        return True\n",
    "\n",
    "    def transcribe(self,speech_file):\n",
    "\n",
    "        # Grab the token if we need it\n",
    "        if self.token is None:\n",
    "            print \"No Token... Getting one\"\n",
    "            self.get_speech_token()\n",
    "\n",
    "        endpoint = 'https://speech.platform.bing.com/recognize'\n",
    "        request_id = uuid.uuid4()\n",
    "        # Params form Microsoft Example \n",
    "        params = {'scenarios': 'ulm',\n",
    "                  'appid': 'D4D52672-91D7-4C74-8AD8-42B1D98141A5',\n",
    "                  'locale': 'en-US',\n",
    "                  'version': '3.0',\n",
    "                  'format': 'json',\n",
    "                  'instanceid': '565D69FF-E928-4B7E-87DA-9A750B96D9E3',\n",
    "                  'requestid': uuid.uuid4(),\n",
    "                  'device.os': 'linux'}\n",
    "        content_type = \"audio/wav; codec=\"\"audio/pcm\"\"; samplerate=16000\"\n",
    "\n",
    "        def stream_audio_file(speech_file, chunk_size=1024):\n",
    "            with open(speech_file, 'rb') as f:\n",
    "                while 1:\n",
    "                    data = f.read(1024)\n",
    "                    if not data:\n",
    "                        break\n",
    "                    yield data\n",
    "\n",
    "        headers = {'Authorization': 'Bearer ' + self.token, \n",
    "                   'Content-Type': content_type}\n",
    "        resp = requests.post(endpoint, \n",
    "                            params=params, \n",
    "                            data=stream_audio_file(speech_file), \n",
    "                            headers=headers)\n",
    "#         print(resp.text)\n",
    "        val = json.loads(resp.text)\n",
    "        return val[\"results\"][0][\"name\"], val[\"results\"][0][\"confidence\"]"
   ]
  },
  {
   "cell_type": "code",
   "execution_count": 17,
   "metadata": {},
   "outputs": [
    {
     "name": "stdout",
     "output_type": "stream",
     "text": [
      "Text:  open real estate developer who would like to build a something on on that piece of land OK now just\n",
      "Confidence:  0.8855618\n"
     ]
    }
   ],
   "source": [
    "ms_asr = Microsoft_ASR(keys['binq_voice_key_1'])\n",
    "ms_asr.get_speech_token()\n",
    "text, confidence = ms_asr.transcribe(audio_file)\n",
    "print \"Text: \", text\n",
    "print \"Confidence: \", confidence"
   ]
  }
 ],
 "metadata": {
  "kernelspec": {
   "display_name": "Python 2",
   "language": "python",
   "name": "python2"
  },
  "language_info": {
   "codemirror_mode": {
    "name": "ipython",
    "version": 2
   },
   "file_extension": ".py",
   "mimetype": "text/x-python",
   "name": "python",
   "nbconvert_exporter": "python",
   "pygments_lexer": "ipython2",
   "version": "2.7.10"
  }
 },
 "nbformat": 4,
 "nbformat_minor": 2
}
